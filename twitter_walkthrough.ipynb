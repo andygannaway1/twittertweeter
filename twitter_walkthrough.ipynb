{
 "cells": [
  {
   "cell_type": "code",
   "execution_count": 1,
   "metadata": {},
   "outputs": [
    {
     "name": "stdout",
     "output_type": "stream",
     "text": [
      "PSEGNews The #EnergyEfficiency programs proposed in PSE&amp;G’s #NJCleanEnergyFuture filing would allow customers to get up-fron… https://t.co/HCOkSxrI6m\n"
     ]
    },
    {
     "ename": "NoSuchElementException",
     "evalue": "Message: no such element: Unable to locate element: {\"method\":\"class name\",\"selector\":\"user-dropdown-icon\"}\n  (Session info: chrome=77.0.3865.90)\n  (Driver info: chromedriver=2.38.552518 (183d19265345f54ce39cbb94cf81ba5f15905011),platform=Mac OS X 10.14.5 x86_64)\n",
     "output_type": "error",
     "traceback": [
      "\u001b[0;31m---------------------------------------------------------------------------\u001b[0m",
      "\u001b[0;31mNoSuchElementException\u001b[0m                    Traceback (most recent call last)",
      "\u001b[0;32m<ipython-input-1-efebcafb7961>\u001b[0m in \u001b[0;36m<module>\u001b[0;34m()\u001b[0m\n\u001b[1;32m     46\u001b[0m     \u001b[0mprint\u001b[0m \u001b[0;34m(\u001b[0m\u001b[0musername\u001b[0m\u001b[0;34m,\u001b[0m \u001b[0mtweet\u001b[0m\u001b[0;34m.\u001b[0m\u001b[0mtext\u001b[0m\u001b[0;34m)\u001b[0m\u001b[0;34m\u001b[0m\u001b[0m\n\u001b[1;32m     47\u001b[0m     \u001b[0mdriver\u001b[0m\u001b[0;34m.\u001b[0m\u001b[0mget\u001b[0m\u001b[0;34m(\u001b[0m\u001b[0;34mf'https://twitter.com/search?f=users&vertical=default&q={username}&src=typd'\u001b[0m\u001b[0;34m)\u001b[0m\u001b[0;34m\u001b[0m\u001b[0m\n\u001b[0;32m---> 48\u001b[0;31m     \u001b[0mdriver\u001b[0m\u001b[0;34m.\u001b[0m\u001b[0mfind_element_by_class_name\u001b[0m\u001b[0;34m(\u001b[0m\u001b[0;34m'user-dropdown-icon'\u001b[0m\u001b[0;34m)\u001b[0m\u001b[0;34m.\u001b[0m\u001b[0mclick\u001b[0m\u001b[0;34m(\u001b[0m\u001b[0;34m)\u001b[0m\u001b[0;34m\u001b[0m\u001b[0m\n\u001b[0m\u001b[1;32m     49\u001b[0m     \u001b[0mdriver\u001b[0m\u001b[0;34m.\u001b[0m\u001b[0mfind_element_by_class_name\u001b[0m\u001b[0;34m(\u001b[0m\u001b[0;34m'mention-text'\u001b[0m\u001b[0;34m)\u001b[0m\u001b[0;34m.\u001b[0m\u001b[0mclick\u001b[0m\u001b[0;34m(\u001b[0m\u001b[0;34m)\u001b[0m\u001b[0;34m\u001b[0m\u001b[0m\n\u001b[1;32m     50\u001b[0m     \u001b[0mdriver\u001b[0m\u001b[0;34m.\u001b[0m\u001b[0mfind_element_by_id\u001b[0m\u001b[0;34m(\u001b[0m\u001b[0;34m'tweet-box-global'\u001b[0m\u001b[0;34m)\u001b[0m\u001b[0;34m.\u001b[0m\u001b[0msend_keys\u001b[0m\u001b[0;34m(\u001b[0m\u001b[0mphrase\u001b[0m\u001b[0;34m)\u001b[0m\u001b[0;34m\u001b[0m\u001b[0m\n",
      "\u001b[0;32m~/anaconda3/lib/python3.6/site-packages/selenium/webdriver/remote/webdriver.py\u001b[0m in \u001b[0;36mfind_element_by_class_name\u001b[0;34m(self, name)\u001b[0m\n\u001b[1;32m    555\u001b[0m             \u001b[0melement\u001b[0m \u001b[0;34m=\u001b[0m \u001b[0mdriver\u001b[0m\u001b[0;34m.\u001b[0m\u001b[0mfind_element_by_class_name\u001b[0m\u001b[0;34m(\u001b[0m\u001b[0;34m'foo'\u001b[0m\u001b[0;34m)\u001b[0m\u001b[0;34m\u001b[0m\u001b[0m\n\u001b[1;32m    556\u001b[0m         \"\"\"\n\u001b[0;32m--> 557\u001b[0;31m         \u001b[0;32mreturn\u001b[0m \u001b[0mself\u001b[0m\u001b[0;34m.\u001b[0m\u001b[0mfind_element\u001b[0m\u001b[0;34m(\u001b[0m\u001b[0mby\u001b[0m\u001b[0;34m=\u001b[0m\u001b[0mBy\u001b[0m\u001b[0;34m.\u001b[0m\u001b[0mCLASS_NAME\u001b[0m\u001b[0;34m,\u001b[0m \u001b[0mvalue\u001b[0m\u001b[0;34m=\u001b[0m\u001b[0mname\u001b[0m\u001b[0;34m)\u001b[0m\u001b[0;34m\u001b[0m\u001b[0m\n\u001b[0m\u001b[1;32m    558\u001b[0m \u001b[0;34m\u001b[0m\u001b[0m\n\u001b[1;32m    559\u001b[0m     \u001b[0;32mdef\u001b[0m \u001b[0mfind_elements_by_class_name\u001b[0m\u001b[0;34m(\u001b[0m\u001b[0mself\u001b[0m\u001b[0;34m,\u001b[0m \u001b[0mname\u001b[0m\u001b[0;34m)\u001b[0m\u001b[0;34m:\u001b[0m\u001b[0;34m\u001b[0m\u001b[0m\n",
      "\u001b[0;32m~/anaconda3/lib/python3.6/site-packages/selenium/webdriver/remote/webdriver.py\u001b[0m in \u001b[0;36mfind_element\u001b[0;34m(self, by, value)\u001b[0m\n\u001b[1;32m    955\u001b[0m         return self.execute(Command.FIND_ELEMENT, {\n\u001b[1;32m    956\u001b[0m             \u001b[0;34m'using'\u001b[0m\u001b[0;34m:\u001b[0m \u001b[0mby\u001b[0m\u001b[0;34m,\u001b[0m\u001b[0;34m\u001b[0m\u001b[0m\n\u001b[0;32m--> 957\u001b[0;31m             'value': value})['value']\n\u001b[0m\u001b[1;32m    958\u001b[0m \u001b[0;34m\u001b[0m\u001b[0m\n\u001b[1;32m    959\u001b[0m     \u001b[0;32mdef\u001b[0m \u001b[0mfind_elements\u001b[0m\u001b[0;34m(\u001b[0m\u001b[0mself\u001b[0m\u001b[0;34m,\u001b[0m \u001b[0mby\u001b[0m\u001b[0;34m=\u001b[0m\u001b[0mBy\u001b[0m\u001b[0;34m.\u001b[0m\u001b[0mID\u001b[0m\u001b[0;34m,\u001b[0m \u001b[0mvalue\u001b[0m\u001b[0;34m=\u001b[0m\u001b[0;32mNone\u001b[0m\u001b[0;34m)\u001b[0m\u001b[0;34m:\u001b[0m\u001b[0;34m\u001b[0m\u001b[0m\n",
      "\u001b[0;32m~/anaconda3/lib/python3.6/site-packages/selenium/webdriver/remote/webdriver.py\u001b[0m in \u001b[0;36mexecute\u001b[0;34m(self, driver_command, params)\u001b[0m\n\u001b[1;32m    312\u001b[0m         \u001b[0mresponse\u001b[0m \u001b[0;34m=\u001b[0m \u001b[0mself\u001b[0m\u001b[0;34m.\u001b[0m\u001b[0mcommand_executor\u001b[0m\u001b[0;34m.\u001b[0m\u001b[0mexecute\u001b[0m\u001b[0;34m(\u001b[0m\u001b[0mdriver_command\u001b[0m\u001b[0;34m,\u001b[0m \u001b[0mparams\u001b[0m\u001b[0;34m)\u001b[0m\u001b[0;34m\u001b[0m\u001b[0m\n\u001b[1;32m    313\u001b[0m         \u001b[0;32mif\u001b[0m \u001b[0mresponse\u001b[0m\u001b[0;34m:\u001b[0m\u001b[0;34m\u001b[0m\u001b[0m\n\u001b[0;32m--> 314\u001b[0;31m             \u001b[0mself\u001b[0m\u001b[0;34m.\u001b[0m\u001b[0merror_handler\u001b[0m\u001b[0;34m.\u001b[0m\u001b[0mcheck_response\u001b[0m\u001b[0;34m(\u001b[0m\u001b[0mresponse\u001b[0m\u001b[0;34m)\u001b[0m\u001b[0;34m\u001b[0m\u001b[0m\n\u001b[0m\u001b[1;32m    315\u001b[0m             response['value'] = self._unwrap_value(\n\u001b[1;32m    316\u001b[0m                 response.get('value', None))\n",
      "\u001b[0;32m~/anaconda3/lib/python3.6/site-packages/selenium/webdriver/remote/errorhandler.py\u001b[0m in \u001b[0;36mcheck_response\u001b[0;34m(self, response)\u001b[0m\n\u001b[1;32m    240\u001b[0m                 \u001b[0malert_text\u001b[0m \u001b[0;34m=\u001b[0m \u001b[0mvalue\u001b[0m\u001b[0;34m[\u001b[0m\u001b[0;34m'alert'\u001b[0m\u001b[0;34m]\u001b[0m\u001b[0;34m.\u001b[0m\u001b[0mget\u001b[0m\u001b[0;34m(\u001b[0m\u001b[0;34m'text'\u001b[0m\u001b[0;34m)\u001b[0m\u001b[0;34m\u001b[0m\u001b[0m\n\u001b[1;32m    241\u001b[0m             \u001b[0;32mraise\u001b[0m \u001b[0mexception_class\u001b[0m\u001b[0;34m(\u001b[0m\u001b[0mmessage\u001b[0m\u001b[0;34m,\u001b[0m \u001b[0mscreen\u001b[0m\u001b[0;34m,\u001b[0m \u001b[0mstacktrace\u001b[0m\u001b[0;34m,\u001b[0m \u001b[0malert_text\u001b[0m\u001b[0;34m)\u001b[0m\u001b[0;34m\u001b[0m\u001b[0m\n\u001b[0;32m--> 242\u001b[0;31m         \u001b[0;32mraise\u001b[0m \u001b[0mexception_class\u001b[0m\u001b[0;34m(\u001b[0m\u001b[0mmessage\u001b[0m\u001b[0;34m,\u001b[0m \u001b[0mscreen\u001b[0m\u001b[0;34m,\u001b[0m \u001b[0mstacktrace\u001b[0m\u001b[0;34m)\u001b[0m\u001b[0;34m\u001b[0m\u001b[0m\n\u001b[0m\u001b[1;32m    243\u001b[0m \u001b[0;34m\u001b[0m\u001b[0m\n\u001b[1;32m    244\u001b[0m     \u001b[0;32mdef\u001b[0m \u001b[0m_value_or_default\u001b[0m\u001b[0;34m(\u001b[0m\u001b[0mself\u001b[0m\u001b[0;34m,\u001b[0m \u001b[0mobj\u001b[0m\u001b[0;34m,\u001b[0m \u001b[0mkey\u001b[0m\u001b[0;34m,\u001b[0m \u001b[0mdefault\u001b[0m\u001b[0;34m)\u001b[0m\u001b[0;34m:\u001b[0m\u001b[0;34m\u001b[0m\u001b[0m\n",
      "\u001b[0;31mNoSuchElementException\u001b[0m: Message: no such element: Unable to locate element: {\"method\":\"class name\",\"selector\":\"user-dropdown-icon\"}\n  (Session info: chrome=77.0.3865.90)\n  (Driver info: chromedriver=2.38.552518 (183d19265345f54ce39cbb94cf81ba5f15905011),platform=Mac OS X 10.14.5 x86_64)\n"
     ]
    }
   ],
   "source": [
    "import tweepy\n",
    "from selenium import webdriver\n",
    "from selenium.webdriver.common.keys import Keys\n",
    "import pandas as pd\n",
    "import csv\n",
    "import glob\n",
    "import os\n",
    "from openpyxl import load_workbook\n",
    "import datetime\n",
    "import time\n",
    "import sys\n",
    "\n",
    "low_memory=False\n",
    "\n",
    "consumer_key = 'n1eEzhBAs9F1nvgK5prH8bUmg'\n",
    "consumer_secret = '35unxFOAlL8m6nkOq46lJfB8XRZzGsoBi0iJn943KqpHG7gjSn'\n",
    "access_token = '2805950827-oDWYb3J9gp40SOP9U2JyMjMTus7YoBXLtrnn4Ax'\n",
    "access_token_secret = 'jfta1u2HTuIVhjOcw81GMrRaeeKKKVqq91RxszeMssoDd'\n",
    "\n",
    "auth = tweepy.OAuthHandler(consumer_key, consumer_secret)\n",
    "auth.set_access_token(access_token, access_token_secret)\n",
    "api = tweepy.API(auth)\n",
    "\n",
    "driver=webdriver.Chrome('/Users/andersongannaway/Downloads/chromedriver')\n",
    "driver.get('https://twitter.com/login')\n",
    "driver.find_element_by_class_name(\"js-username-field\").send_keys('lgcypower')\n",
    "driver.find_element_by_class_name('js-password-field').send_keys('1j@00FNfCe4p')\n",
    "driver.find_element_by_class_name(\"EdgeButtom--medium\").click()\n",
    "time.sleep(1)\n",
    "        \n",
    "search = \"PSE&G\"\n",
    "numberOfUsers = 1\n",
    "\n",
    "#driver=webdriver.Chrome('/Users/andersongannaway/Downloads/chromedriver')\n",
    "#driver.get('https://twitter.com/login')\n",
    "#driver.find_element_by_class_name(\"js-username-field\").send_keys('lgcypower')\n",
    "#driver.find_element_by_class_name('js-password-field').send_keys('Landoid96')\n",
    "#driver.find_element_by_class_name(\"EdgeButtom--medium\").click()\n",
    "#time.sleep(2)\n",
    "\n",
    "for tweet in tweepy.Cursor(api.search, search,lang='en').items(numberOfUsers):\n",
    "    tweetId = tweet.user.id\n",
    "    username = tweet.user.screen_name\n",
    "    phrase = 'Ever thought about going solar? Check out our website! www.lgcypower.com'\n",
    "    \n",
    "    print (username, tweet.text)\n",
    "    driver.get(f'https://twitter.com/search?f=users&vertical=default&q={username}&src=typd')\n",
    "    driver.find_element_by_class_name('user-dropdown-icon').click()\n",
    "    driver.find_element_by_class_name('mention-text').click()\n",
    "    driver.find_element_by_id('tweet-box-global').send_keys(phrase)\n",
    "    driver.find_element_by_id('tweet-box-global').send_keys(Keys.COMMAND + Keys.ENTER)\n",
    "    time.sleep(2)\n"
   ]
  },
  {
   "cell_type": "code",
   "execution_count": 2,
   "metadata": {},
   "outputs": [
    {
     "name": "stdout",
     "output_type": "stream",
     "text": [
      "PG&amp;E workers found damaged tower and bullet holes near Camp Fire origin site https://t.co/PgMeGnp5yP\n",
      "[('PG', 'NNP'), ('&', 'CC'), ('amp', 'NN'), (';', ':'), ('E', 'NNP'), ('workers', 'NNS'), ('found', 'VBD'), ('damaged', 'VBN'), ('tower', 'NN'), ('and', 'CC'), ('bullet', 'NN'), ('holes', 'NNS'), ('near', 'IN'), ('Camp', 'NNP'), ('Fire', 'NNP'), ('origin', 'IN'), ('site', 'NN'), ('https', 'NN'), (':', ':'), ('//t.co/PgMeGnp5yP', 'NN')]\n",
      "PG&amp;E workers found damaged tower and bullet holes near Camp Fire origin site https://t.co/S5YIEFf3x5\n",
      "[('PG', 'NNP'), ('&', 'CC'), ('amp', 'NN'), (';', ':'), ('E', 'NNP'), ('workers', 'NNS'), ('found', 'VBD'), ('damaged', 'VBN'), ('tower', 'NN'), ('and', 'CC'), ('bullet', 'NN'), ('holes', 'NNS'), ('near', 'IN'), ('Camp', 'NNP'), ('Fire', 'NNP'), ('origin', 'IN'), ('site', 'NN'), ('https', 'NN'), (':', ':'), ('//t.co/S5YIEFf3x5', 'NN')]\n"
     ]
    }
   ],
   "source": [
    "import tweepy\n",
    "import nltk\n",
    "from nltk import tokenize\n",
    "from nltk import tag\n",
    "from nltk import chunk\n",
    "from nltk.corpus import treebank_chunk\n",
    "import time\n",
    "low_memory=False\n",
    "\n",
    "consumer_key = 'n1eEzhBAs9F1nvgK5prH8bUmg'\n",
    "consumer_secret = '35unxFOAlL8m6nkOq46lJfB8XRZzGsoBi0iJn943KqpHG7gjSn'\n",
    "access_token = '2805950827-oDWYb3J9gp40SOP9U2JyMjMTus7YoBXLtrnn4Ax'\n",
    "access_token_secret = 'jfta1u2HTuIVhjOcw81GMrRaeeKKKVqq91RxszeMssoDd'\n",
    "\n",
    "auth = tweepy.OAuthHandler(consumer_key, consumer_secret)\n",
    "auth.set_access_token(access_token, access_token_secret)\n",
    "api = tweepy.API(auth)\n",
    "        \n",
    "search = \"PG&E\"\n",
    "numberOfUsers = 2\n",
    "\n",
    "for tweet in tweepy.Cursor(api.search, search,lang='en').items(numberOfUsers):\n",
    "    tweetId = tweet.user.id\n",
    "    username = tweet.user.screen_name\n",
    "    phrase = 'Ever thought about going solar? Check out our website! www.lgcypower.com'\n",
    "    print (tweet.text)\n",
    "    #tagged = nltk.pos_tag(tokens)\n",
    "    #tagged[0:]\n",
    "    para = nltk.sent_tokenize(tweet.text) # this gives us a list of sentences\n",
    "# now loop over each sentence and tokenize it separately\n",
    "    for sentence in para:\n",
    "        tokenized_para = nltk.word_tokenize(sentence)\n",
    "        tags = nltk.pos_tag(tokenized_para)\n",
    "        print(tags)\n",
    "        tree = chunk.ne_chunk(tags)\n",
    "        tree\n",
    "        tree.draw()"
   ]
  },
  {
   "cell_type": "code",
   "execution_count": 10,
   "metadata": {},
   "outputs": [
    {
     "name": "stdout",
     "output_type": "stream",
     "text": [
      "PG&amp;E workers found damaged tower and bullet holes near Camp Fire origin site https://t.co/S5YIEFf3x5\n",
      "compound: -0.6486, compound\n",
      "neg: 0.306, neg\n",
      "neu: 0.694, neu\n",
      "pos: 0.0, pos\n"
     ]
    }
   ],
   "source": [
    "from nltk.sentiment.vader import SentimentIntensityAnalyzer\n",
    "tool = SentimentIntensityAnalyzer()\n",
    "for sentence in para:\n",
    "    print(sentence)\n",
    "    ss = tool.polarity_scores(sentence)\n",
    "    for i in sorted(ss):\n",
    "        print('{0}: {1}, '.format(i, ss[i]), end='') \n",
    "        if ss[\"compound\"] < 0.0:"
   ]
  },
  {
   "cell_type": "code",
   "execution_count": null,
   "metadata": {},
   "outputs": [],
   "source": []
  }
 ],
 "metadata": {
  "kernelspec": {
   "display_name": "Python 3",
   "language": "python",
   "name": "python3"
  },
  "language_info": {
   "codemirror_mode": {
    "name": "ipython",
    "version": 3
   },
   "file_extension": ".py",
   "mimetype": "text/x-python",
   "name": "python",
   "nbconvert_exporter": "python",
   "pygments_lexer": "ipython3",
   "version": "3.6.4"
  }
 },
 "nbformat": 4,
 "nbformat_minor": 2
}
